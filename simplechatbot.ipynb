{
 "cells": [
  {
   "cell_type": "code",
   "execution_count": null,
   "id": "db878d56-e8a7-48f7-821e-c817d36e58e9",
   "metadata": {},
   "outputs": [],
   "source": [
    "import nltk\n",
    "from nltk.chat import Chat\n",
    "from nltk.chat.util import Chat, reflections"
   ]
  },
  {
   "cell_type": "code",
   "execution_count": 21,
   "id": "452c2264-b36f-48cf-acb5-874e628fb8fc",
   "metadata": {},
   "outputs": [],
   "source": [
    "pairs = [\n",
    "    (r'Hello|Hi', ['Hello,How are you today']),\n",
    "    (r'I am fine', ['Glad to know How can I help you today']),\n",
    "    (r'What do you call yourself', ['I am just a simple bot']),\n",
    "    (r'(.*) your name'), ['My name is Chitti'],\n",
    "    (r'(.*) your age'), ['I am just a computer program I dont have age'],\n",
    "\n",
    "    (r'Thanks', ['You are welcome']),\n",
    "    (r'Exit', ['It was great pleasure talking to you,please visit again']),\n",
    "       ]"
   ]
  },
  {
   "cell_type": "code",
   "execution_count": 21,
   "id": "dfeeffb9",
   "metadata": {},
   "outputs": [],
   "source": []
  },
  {
   "cell_type": "code",
   "execution_count": 18,
   "id": "3125335e",
   "metadata": {},
   "outputs": [
    {
     "name": "stdout",
     "output_type": "stream",
     "text": [
      "Welcome to my Chatbot\n"
     ]
    }
   ],
   "source": [
    "    print(\"Welcome to NLTK Chatbot\")"
   ]
  },
  {
   "cell_type": "code",
   "execution_count": null,
   "id": "3aae10f5-a1e3-4b13-ba19-132928d5d688",
   "metadata": {},
   "outputs": [],
   "source": [
    "      chatbot = Chat(pairs)"
   ]
  },
  {
   "cell_type": "code",
   "execution_count": null,
   "id": "e53d9387-7705-4481-abd7-239d4028a991",
   "metadata": {},
   "outputs": [],
   "source": [
    "     Chat.converse()"
   ]
  }
 ],
 "metadata": {
  "kernelspec": {
   "display_name": "Python 3 (ipykernel)",
   "language": "python",
   "name": "python3"
  },
  "language_info": {
   "codemirror_mode": {
    "name": "ipython",
    "version": 3
   },
   "file_extension": ".py",
   "mimetype": "text/x-python",
   "name": "python",
   "nbconvert_exporter": "python",
   "pygments_lexer": "ipython3",
   "version": "3.12.7"
  }
 },
 "nbformat": 4,
 "nbformat_minor": 5
}
